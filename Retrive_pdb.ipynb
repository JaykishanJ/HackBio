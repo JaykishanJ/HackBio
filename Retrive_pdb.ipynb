{
 "cells": [
  {
   "cell_type": "code",
   "execution_count": 41,
   "id": "902e0d20",
   "metadata": {},
   "outputs": [
    {
     "name": "stderr",
     "output_type": "stream",
     "text": [
      "WARNING: The default download format has changed from PDB to PDBx/mmCif\n"
     ]
    },
    {
     "name": "stdout",
     "output_type": "stream",
     "text": [
      "Structure exists: 'C:\\Users\\Jaykishan\\Desktop\\xp\\4xp1.cif' \n"
     ]
    },
    {
     "name": "stderr",
     "output_type": "stream",
     "text": [
      "c:\\programdata\\miniconda3\\lib\\site-packages\\Bio\\PDB\\StructureBuilder.py:89: PDBConstructionWarning: WARNING: Chain A is discontinuous at line 7523.\n",
      "  warnings.warn(\n",
      "c:\\programdata\\miniconda3\\lib\\site-packages\\Bio\\PDB\\StructureBuilder.py:89: PDBConstructionWarning: WARNING: Chain L is discontinuous at line 7658.\n",
      "  warnings.warn(\n",
      "c:\\programdata\\miniconda3\\lib\\site-packages\\Bio\\PDB\\StructureBuilder.py:89: PDBConstructionWarning: WARNING: Chain A is discontinuous at line 7659.\n",
      "  warnings.warn(\n",
      "c:\\programdata\\miniconda3\\lib\\site-packages\\Bio\\PDB\\StructureBuilder.py:89: PDBConstructionWarning: WARNING: Chain L is discontinuous at line 7674.\n",
      "  warnings.warn(\n",
      "c:\\programdata\\miniconda3\\lib\\site-packages\\Bio\\PDB\\StructureBuilder.py:89: PDBConstructionWarning: WARNING: Chain H is discontinuous at line 7677.\n",
      "  warnings.warn(\n"
     ]
    },
    {
     "data": {
      "application/vnd.jupyter.widget-view+json": {
       "model_id": "285c9f0cfae141e889cd3491315dd8fe",
       "version_major": 2,
       "version_minor": 0
      },
      "text/plain": [
       "NGLWidget()"
      ]
     },
     "metadata": {},
     "output_type": "display_data"
    }
   ],
   "source": [
    "import Bio\n",
    "import nglview as nv \n",
    "from Bio.PDB import *\n",
    "pdbl.retrieve_pdb_file('4xp1')\n",
    "parser = MMCIFParser()\n",
    "structure = parser.get_structure('4xp1', 'xp/4xp1.cif')\n",
    "view = nv.show_biopython(structure)\n",
    "view.clear_representations()\n",
    "#view as ball and stick (atom and bond)\n",
    "view.add_ball_and_stick()\n",
    "view"
   ]
  }
 ],
 "metadata": {
  "kernelspec": {
   "display_name": "Python 3 (ipykernel)",
   "language": "python",
   "name": "python3"
  },
  "language_info": {
   "codemirror_mode": {
    "name": "ipython",
    "version": 3
   },
   "file_extension": ".py",
   "mimetype": "text/x-python",
   "name": "python",
   "nbconvert_exporter": "python",
   "pygments_lexer": "ipython3",
   "version": "3.9.5"
  }
 },
 "nbformat": 4,
 "nbformat_minor": 5
}
